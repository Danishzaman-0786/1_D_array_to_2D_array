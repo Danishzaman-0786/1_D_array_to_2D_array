{
  "nbformat": 4,
  "nbformat_minor": 0,
  "metadata": {
    "colab": {
      "provenance": [],
      "authorship_tag": "ABX9TyPYiSgSeIMPPELXMRduiLjB",
      "include_colab_link": true
    },
    "kernelspec": {
      "name": "python3",
      "display_name": "Python 3"
    },
    "language_info": {
      "name": "python"
    }
  },
  "cells": [
    {
      "cell_type": "markdown",
      "metadata": {
        "id": "view-in-github",
        "colab_type": "text"
      },
      "source": [
        "<a href=\"https://colab.research.google.com/github/Danishzaman-0786/1_D_array_to_2D_array/blob/main/1_D_to_2_D(array).ipynb\" target=\"_parent\"><img src=\"https://colab.research.google.com/assets/colab-badge.svg\" alt=\"Open In Colab\"/></a>"
      ]
    },
    {
      "cell_type": "code",
      "source": [
        "p=int(input(\"Size_array...arr_size=\"))\n",
        "v=[i for i in range(1,p+1)]\n",
        "print(v)\n",
        "print(\"rows and column\")\n",
        "m=int(input(\"rows=\"))\n",
        "n=int(input(\"col=\"))\n",
        "k=0\n",
        "if m*n == len(v):\n",
        "    w=[[0 for i in range(n)] for j in range(m)]\n",
        "    for i in range(m):\n",
        "       for j in range(n):\n",
        "         w[i][j]=v[k]\n",
        "         k=k+1\n",
        "    print(\"then | answer\")\n",
        "    print(\"   \")\n",
        "\n",
        "    print(w)\n",
        "else:\n",
        "    print(\"invailid\")"
      ],
      "metadata": {
        "colab": {
          "base_uri": "https://localhost:8080/"
        },
        "id": "5cXXZIZ57mEx",
        "outputId": "cd1d9e85-acbe-451a-ceb9-f3ae92459d27"
      },
      "execution_count": null,
      "outputs": [
        {
          "output_type": "stream",
          "name": "stdout",
          "text": [
            "Size_array...arr_size=4\n",
            "[1, 2, 3, 4]\n",
            "rows and column\n",
            "rows=2\n",
            "col=1\n",
            "invailid\n"
          ]
        }
      ]
    },
    {
      "cell_type": "code",
      "source": [],
      "metadata": {
        "id": "09N1EyGd7nW8"
      },
      "execution_count": null,
      "outputs": []
    }
  ]
}